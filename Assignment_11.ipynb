{
 "cells": [
  {
   "cell_type": "markdown",
   "id": "a35b1ebc",
   "metadata": {},
   "source": [
    "Ans1"
   ]
  },
  {
   "cell_type": "code",
   "execution_count": 3,
   "id": "e62b02de",
   "metadata": {},
   "outputs": [
    {
     "name": "stdout",
     "output_type": "stream",
     "text": [
      "-20\n"
     ]
    },
    {
     "ename": "AssertionError",
     "evalue": "",
     "output_type": "error",
     "traceback": [
      "\u001b[1;31m---------------------------------------------------------------------------\u001b[0m",
      "\u001b[1;31mAssertionError\u001b[0m                            Traceback (most recent call last)",
      "Input \u001b[1;32mIn [3]\u001b[0m, in \u001b[0;36m<cell line: 2>\u001b[1;34m()\u001b[0m\n\u001b[0;32m      1\u001b[0m x\u001b[38;5;241m=\u001b[39m\u001b[38;5;28mint\u001b[39m(\u001b[38;5;28minput\u001b[39m())\n\u001b[1;32m----> 2\u001b[0m \u001b[38;5;28;01massert\u001b[39;00m x\u001b[38;5;241m>\u001b[39m\u001b[38;5;241m0\u001b[39m\n\u001b[0;32m      3\u001b[0m \u001b[38;5;28mprint\u001b[39m(\u001b[38;5;124m\"\u001b[39m\u001b[38;5;124mx is positive no.\u001b[39m\u001b[38;5;124m\"\u001b[39m)\n",
      "\u001b[1;31mAssertionError\u001b[0m: "
     ]
    }
   ],
   "source": [
    "x=int(input())\n",
    "assert x>0\n",
    "print(\"x is positive no.\")"
   ]
  },
  {
   "cell_type": "markdown",
   "id": "5f9e9ffb",
   "metadata": {},
   "source": [
    "Ans 2 - assert eggs.lower() != bacon.lower()"
   ]
  },
  {
   "cell_type": "markdown",
   "id": "ce2998ce",
   "metadata": {},
   "source": [
    "Ans3- assert False"
   ]
  },
  {
   "cell_type": "markdown",
   "id": "2705b35c",
   "metadata": {},
   "source": [
    "Ans4- import logging\n",
    "\n",
    "logging.basicConfig(level=logging.DEBUG, format=' %(asctime)s - %(levelname)s - %(message)s')"
   ]
  },
  {
   "cell_type": "markdown",
   "id": "804d8f8f",
   "metadata": {},
   "source": [
    "Ans5- import logging \n",
    "\n",
    "logging.basicConfig(filename='programLog.txt', level=logging.DEBUG, format=' %(asctime)s - %(levelname)s - %(message)s')"
   ]
  },
  {
   "cell_type": "markdown",
   "id": "0c2db70a",
   "metadata": {},
   "source": [
    "Ans6-DEBUG INFO WARNING ERROR CRITICAL"
   ]
  },
  {
   "cell_type": "markdown",
   "id": "b8a9c635",
   "metadata": {},
   "source": [
    "Ans7-logging.disable(logging.CRITICAL)\n",
    "\n"
   ]
  },
  {
   "cell_type": "markdown",
   "id": "d9790bb8",
   "metadata": {},
   "source": [
    "Ans8-Once we're done debugging, we'll end up spending a lot of time removing print() calls from our code for each log message. We might even accidentally remove some print() calls that were being used for nonlog messages. The nice thing about log messages is that you're free to fill your program with as many as you like, and you can always disable them later by adding a single logging.disable(logging.CRITICAL) call. Unlike print(), the logging module makes it easy to switch between showing and hiding log messages.\n"
   ]
  },
  {
   "cell_type": "markdown",
   "id": "cdc606e8",
   "metadata": {},
   "source": [
    "Ans9- Step Into will cause the debugger to go into the next function call and break there. Step Over will tell the debugger to execute the next function and break afterwards. Step Out will tell the debugger to finish the current function and break after it"
   ]
  },
  {
   "cell_type": "markdown",
   "id": "4fc5e1f5",
   "metadata": {},
   "source": [
    "Ans10-Continue execution, only stop when a breakpoint is encountered. "
   ]
  },
  {
   "cell_type": "markdown",
   "id": "716f59e7",
   "metadata": {},
   "source": [
    "Ans11-A breakpoint is a point in the program where the code will stop executing."
   ]
  },
  {
   "cell_type": "code",
   "execution_count": null,
   "id": "438a1e3c",
   "metadata": {},
   "outputs": [],
   "source": []
  }
 ],
 "metadata": {
  "kernelspec": {
   "display_name": "Python 3 (ipykernel)",
   "language": "python",
   "name": "python3"
  },
  "language_info": {
   "codemirror_mode": {
    "name": "ipython",
    "version": 3
   },
   "file_extension": ".py",
   "mimetype": "text/x-python",
   "name": "python",
   "nbconvert_exporter": "python",
   "pygments_lexer": "ipython3",
   "version": "3.9.12"
  }
 },
 "nbformat": 4,
 "nbformat_minor": 5
}
